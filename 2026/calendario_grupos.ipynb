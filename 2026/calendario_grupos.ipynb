{
 "cells": [
  {
   "cell_type": "code",
   "execution_count": 1,
   "metadata": {},
   "outputs": [],
   "source": [
    "import sys\n",
    "import os\n",
    "import pandas as pd\n",
    "\n",
    "# Agregar el directorio principal al sys.path\n",
    "sys.path.append(os.path.abspath(os.path.join(os.getcwd(), '..')))\n",
    "\n",
    "\n",
    "from utils.generar_enfrent import generar_enfrentamientos\n",
    "from utils.vuelta_grupos import vuelta_gr\n",
    "from utils.df_enfrentamientos import df_ida_o_vuelta\n",
    "from utils.enfrentamientos_sinVS import df_partidos\n",
    "\n",
    "#from utils.partidos_jornadas import partidos_jornadas\n"
   ]
  },
  {
   "cell_type": "code",
   "execution_count": 2,
   "metadata": {},
   "outputs": [],
   "source": [
    "df_grupos = pd.read_excel('data/sorteo_grupos.xlsx')\n",
    "grupo_A = list(df_grupos['Grupo A'])\n",
    "grupo_B = list(df_grupos['Grupo B'])"
   ]
  },
  {
   "cell_type": "markdown",
   "metadata": {},
   "source": [
    "### **GRUPOS**"
   ]
  },
  {
   "cell_type": "code",
   "execution_count": 3,
   "metadata": {},
   "outputs": [],
   "source": [
    "\n",
    "#* GRUPO A:\n",
    "ida_grA = generar_enfrentamientos(grupo_A) #* Generar partidos de ida\n",
    "vuelta_grA = vuelta_gr(ida_grA) #* Generar partidos de vuelta\n",
    "df_ida_grA = df_ida_o_vuelta(ida_grA)  #* Generar DF de los partidos de ida\n",
    "df_vuelta_grA = df_ida_o_vuelta(vuelta_grA, 6) #* El 6 indica el inicio de la jornada de los partidos de vuelta\n",
    "idx_grA = 'GRUPO A'\n",
    "calendario_grA = pd.concat([df_ida_grA, df_vuelta_grA], axis = 1) #* Crear dataframe con todos los partidos de ida y vuelta gr1\n",
    "calendario_grA['GRUPO'] = idx_grA\n",
    "calendario_grA.set_index('GRUPO', drop=True, append=False, inplace=True) #* Cambiar el indice del DF para distinguir los grupos al juntarlos\n",
    "#calendario_grA #* Usar para VISUALIZAR LOS PARTIDOS DE IDA Y VUELTA DEL GRUPO 1\n",
    "\n",
    "#* GRUPO B:\n",
    "ida_grB = generar_enfrentamientos(grupo_B) #* Generar partidos de ida\n",
    "vuelta_grB = vuelta_gr(ida_grB) #* Generar partidos de vuelta\n",
    "df_ida_grB = df_ida_o_vuelta(ida_grB)  #* Generar DF de los partidos de ida\n",
    "df_vuelta_grB = df_ida_o_vuelta(vuelta_grB, 6) #* El 6 indica el inicio de la jornada de los partidos de vuelta\n",
    "idx_grB = 'GRUPO B'\n",
    "calendario_grB = pd.concat([df_ida_grB, df_vuelta_grB], axis = 1) #* Crear dataframe con todos los partidos de ida y vuelta gr2\n",
    "calendario_grB['GRUPO'] = idx_grB\n",
    "calendario_grB.set_index('GRUPO', drop=True, append=False, inplace=True) #* Cambiar el indice del DF para distinguir los grupos al juntarlos\n",
    "#calendario_grB #* Usar para VISUALIZAR LOS PARTIDOS DE IDA Y VUELTA DEL GRUPO 2"
   ]
  },
  {
   "cell_type": "markdown",
   "metadata": {},
   "source": [
    "### **CALENDARIOS**"
   ]
  },
  {
   "cell_type": "code",
   "execution_count": 4,
   "metadata": {},
   "outputs": [
    {
     "data": {
      "text/html": [
       "<div>\n",
       "<style scoped>\n",
       "    .dataframe tbody tr th:only-of-type {\n",
       "        vertical-align: middle;\n",
       "    }\n",
       "\n",
       "    .dataframe tbody tr th {\n",
       "        vertical-align: top;\n",
       "    }\n",
       "\n",
       "    .dataframe thead th {\n",
       "        text-align: right;\n",
       "    }\n",
       "</style>\n",
       "<table border=\"1\" class=\"dataframe\">\n",
       "  <thead>\n",
       "    <tr style=\"text-align: right;\">\n",
       "      <th></th>\n",
       "      <th>Jornada 1</th>\n",
       "      <th>Jornada 2</th>\n",
       "      <th>Jornada 3</th>\n",
       "      <th>Jornada 4</th>\n",
       "      <th>Jornada 5</th>\n",
       "      <th>Jornada 6</th>\n",
       "      <th>Jornada 7</th>\n",
       "      <th>Jornada 8</th>\n",
       "      <th>Jornada 9</th>\n",
       "      <th>Jornada 10</th>\n",
       "    </tr>\n",
       "    <tr>\n",
       "      <th>GRUPO</th>\n",
       "      <th></th>\n",
       "      <th></th>\n",
       "      <th></th>\n",
       "      <th></th>\n",
       "      <th></th>\n",
       "      <th></th>\n",
       "      <th></th>\n",
       "      <th></th>\n",
       "      <th></th>\n",
       "      <th></th>\n",
       "    </tr>\n",
       "  </thead>\n",
       "  <tbody>\n",
       "    <tr>\n",
       "      <th>GRUPO A</th>\n",
       "      <td>Armada VS Papu</td>\n",
       "      <td>Armada VS Kike</td>\n",
       "      <td>Armada VS Kero</td>\n",
       "      <td>Armada VS Palop</td>\n",
       "      <td>Armada VS Tony</td>\n",
       "      <td>Papu VS Armada</td>\n",
       "      <td>Kike VS Armada</td>\n",
       "      <td>Kero VS Armada</td>\n",
       "      <td>Palop VS Armada</td>\n",
       "      <td>Tony VS Armada</td>\n",
       "    </tr>\n",
       "    <tr>\n",
       "      <th>GRUPO A</th>\n",
       "      <td>Tony VS Kike</td>\n",
       "      <td>Papu VS Kero</td>\n",
       "      <td>Kike VS Palop</td>\n",
       "      <td>Kero VS Tony</td>\n",
       "      <td>Palop VS Papu</td>\n",
       "      <td>Kike VS Tony</td>\n",
       "      <td>Kero VS Papu</td>\n",
       "      <td>Palop VS Kike</td>\n",
       "      <td>Tony VS Kero</td>\n",
       "      <td>Papu VS Palop</td>\n",
       "    </tr>\n",
       "    <tr>\n",
       "      <th>GRUPO A</th>\n",
       "      <td>Palop VS Kero</td>\n",
       "      <td>Tony VS Palop</td>\n",
       "      <td>Papu VS Tony</td>\n",
       "      <td>Kike VS Papu</td>\n",
       "      <td>Kero VS Kike</td>\n",
       "      <td>Kero VS Palop</td>\n",
       "      <td>Palop VS Tony</td>\n",
       "      <td>Tony VS Papu</td>\n",
       "      <td>Papu VS Kike</td>\n",
       "      <td>Kike VS Kero</td>\n",
       "    </tr>\n",
       "    <tr>\n",
       "      <th>GRUPO B</th>\n",
       "      <td>Fale VS Coquina</td>\n",
       "      <td>Fale VS Gonzo</td>\n",
       "      <td>Fale VS Puche</td>\n",
       "      <td>Fale VS Lope</td>\n",
       "      <td>Fale VS Ruso</td>\n",
       "      <td>Coquina VS Fale</td>\n",
       "      <td>Gonzo VS Fale</td>\n",
       "      <td>Puche VS Fale</td>\n",
       "      <td>Lope VS Fale</td>\n",
       "      <td>Ruso VS Fale</td>\n",
       "    </tr>\n",
       "    <tr>\n",
       "      <th>GRUPO B</th>\n",
       "      <td>Ruso VS Gonzo</td>\n",
       "      <td>Coquina VS Puche</td>\n",
       "      <td>Gonzo VS Lope</td>\n",
       "      <td>Puche VS Ruso</td>\n",
       "      <td>Lope VS Coquina</td>\n",
       "      <td>Gonzo VS Ruso</td>\n",
       "      <td>Puche VS Coquina</td>\n",
       "      <td>Lope VS Gonzo</td>\n",
       "      <td>Ruso VS Puche</td>\n",
       "      <td>Coquina VS Lope</td>\n",
       "    </tr>\n",
       "    <tr>\n",
       "      <th>GRUPO B</th>\n",
       "      <td>Lope VS Puche</td>\n",
       "      <td>Ruso VS Lope</td>\n",
       "      <td>Coquina VS Ruso</td>\n",
       "      <td>Gonzo VS Coquina</td>\n",
       "      <td>Puche VS Gonzo</td>\n",
       "      <td>Puche VS Lope</td>\n",
       "      <td>Lope VS Ruso</td>\n",
       "      <td>Ruso VS Coquina</td>\n",
       "      <td>Coquina VS Gonzo</td>\n",
       "      <td>Gonzo VS Puche</td>\n",
       "    </tr>\n",
       "  </tbody>\n",
       "</table>\n",
       "</div>"
      ],
      "text/plain": [
       "               Jornada 1         Jornada 2        Jornada 3         Jornada 4  \\\n",
       "GRUPO                                                                           \n",
       "GRUPO A   Armada VS Papu    Armada VS Kike   Armada VS Kero   Armada VS Palop   \n",
       "GRUPO A     Tony VS Kike      Papu VS Kero    Kike VS Palop      Kero VS Tony   \n",
       "GRUPO A    Palop VS Kero     Tony VS Palop     Papu VS Tony      Kike VS Papu   \n",
       "GRUPO B  Fale VS Coquina     Fale VS Gonzo    Fale VS Puche      Fale VS Lope   \n",
       "GRUPO B    Ruso VS Gonzo  Coquina VS Puche    Gonzo VS Lope     Puche VS Ruso   \n",
       "GRUPO B    Lope VS Puche      Ruso VS Lope  Coquina VS Ruso  Gonzo VS Coquina   \n",
       "\n",
       "               Jornada 5        Jornada 6         Jornada 7        Jornada 8  \\\n",
       "GRUPO                                                                          \n",
       "GRUPO A   Armada VS Tony   Papu VS Armada    Kike VS Armada   Kero VS Armada   \n",
       "GRUPO A    Palop VS Papu     Kike VS Tony      Kero VS Papu    Palop VS Kike   \n",
       "GRUPO A     Kero VS Kike    Kero VS Palop     Palop VS Tony     Tony VS Papu   \n",
       "GRUPO B     Fale VS Ruso  Coquina VS Fale     Gonzo VS Fale    Puche VS Fale   \n",
       "GRUPO B  Lope VS Coquina    Gonzo VS Ruso  Puche VS Coquina    Lope VS Gonzo   \n",
       "GRUPO B   Puche VS Gonzo    Puche VS Lope      Lope VS Ruso  Ruso VS Coquina   \n",
       "\n",
       "                Jornada 9       Jornada 10  \n",
       "GRUPO                                       \n",
       "GRUPO A   Palop VS Armada   Tony VS Armada  \n",
       "GRUPO A      Tony VS Kero    Papu VS Palop  \n",
       "GRUPO A      Papu VS Kike     Kike VS Kero  \n",
       "GRUPO B      Lope VS Fale     Ruso VS Fale  \n",
       "GRUPO B     Ruso VS Puche  Coquina VS Lope  \n",
       "GRUPO B  Coquina VS Gonzo   Gonzo VS Puche  "
      ]
     },
     "execution_count": 4,
     "metadata": {},
     "output_type": "execute_result"
    }
   ],
   "source": [
    "calendario_grupos = pd.concat([calendario_grA, calendario_grB], axis = 0)\n",
    "calendario_grupos"
   ]
  },
  {
   "cell_type": "code",
   "execution_count": 5,
   "metadata": {},
   "outputs": [],
   "source": [
    "\n",
    "#* Guardar el DataFrame en un archivo Excel en la carpeta 'data'\n",
    "#ruta_archivo = os.path.join(carpeta, 'calendario_grupos.xlsx')\n",
    "calendario_grupos.to_excel('data/calendario_grupos.xlsx', index=False)"
   ]
  },
  {
   "cell_type": "markdown",
   "metadata": {},
   "source": [
    "# JORNADAS DE IDA"
   ]
  },
  {
   "cell_type": "code",
   "execution_count": 6,
   "metadata": {},
   "outputs": [],
   "source": [
    "from utils.descomp_tupla_columnas import descomponer_tupla\n",
    "\n",
    "def partidos_jornadas(df_partidos, num_jornada, col_local, col_visitante, col_rtdo_local, col_rtdo_visitante):\n",
    "    df_partidos_jornada = pd.DataFrame()\n",
    "    #* Aplicando la función a la columna 'datos' y creando nuevas columnas\n",
    "    df_partidos_jornada[[col_local, col_visitante]] = df_partidos[f'Jornada {num_jornada}'].apply(descomponer_tupla) #* Usamos la función apply() para aplicar una función a una columna de un dataframe\n",
    "    df_partidos_jornada[col_rtdo_visitante] = 0\n",
    "    df_partidos_jornada.insert(0, col_rtdo_local, 0)\n",
    "    \n",
    "    return df_partidos_jornada"
   ]
  },
  {
   "cell_type": "code",
   "execution_count": 7,
   "metadata": {},
   "outputs": [],
   "source": [
    " #! JORNADAS DE IDA SIN FORMATO PARA GENERAR  CADA JORNADA\n",
    "ida_gA = df_partidos(ida_grA)\n",
    "ida_gB = df_partidos(ida_grB)"
   ]
  },
  {
   "cell_type": "markdown",
   "metadata": {},
   "source": [
    "### JORNADA 1"
   ]
  },
  {
   "cell_type": "code",
   "execution_count": 8,
   "metadata": {},
   "outputs": [
    {
     "data": {
      "text/html": [
       "<div>\n",
       "<style scoped>\n",
       "    .dataframe tbody tr th:only-of-type {\n",
       "        vertical-align: middle;\n",
       "    }\n",
       "\n",
       "    .dataframe tbody tr th {\n",
       "        vertical-align: top;\n",
       "    }\n",
       "\n",
       "    .dataframe thead th {\n",
       "        text-align: right;\n",
       "    }\n",
       "</style>\n",
       "<table border=\"1\" class=\"dataframe\">\n",
       "  <thead>\n",
       "    <tr style=\"text-align: right;\">\n",
       "      <th></th>\n",
       "      <th>RTDO_L</th>\n",
       "      <th>LOCAL</th>\n",
       "      <th>VISITANTE</th>\n",
       "      <th>RTDO_VISITANTE</th>\n",
       "      <th>jornada</th>\n",
       "      <th>RTDO_L.1</th>\n",
       "      <th>LOCAL.1</th>\n",
       "      <th>VISITANTE.1</th>\n",
       "      <th>RTDO_V.1</th>\n",
       "    </tr>\n",
       "  </thead>\n",
       "  <tbody>\n",
       "    <tr>\n",
       "      <th>0</th>\n",
       "      <td>0</td>\n",
       "      <td>Armada</td>\n",
       "      <td>Papu</td>\n",
       "      <td>0</td>\n",
       "      <td>JOR. 1</td>\n",
       "      <td>0</td>\n",
       "      <td>Fale</td>\n",
       "      <td>Coquina</td>\n",
       "      <td>0</td>\n",
       "    </tr>\n",
       "    <tr>\n",
       "      <th>1</th>\n",
       "      <td>0</td>\n",
       "      <td>Tony</td>\n",
       "      <td>Kike</td>\n",
       "      <td>0</td>\n",
       "      <td>JOR. 1</td>\n",
       "      <td>0</td>\n",
       "      <td>Ruso</td>\n",
       "      <td>Gonzo</td>\n",
       "      <td>0</td>\n",
       "    </tr>\n",
       "    <tr>\n",
       "      <th>2</th>\n",
       "      <td>0</td>\n",
       "      <td>Palop</td>\n",
       "      <td>Kero</td>\n",
       "      <td>0</td>\n",
       "      <td>JOR. 1</td>\n",
       "      <td>0</td>\n",
       "      <td>Lope</td>\n",
       "      <td>Puche</td>\n",
       "      <td>0</td>\n",
       "    </tr>\n",
       "  </tbody>\n",
       "</table>\n",
       "</div>"
      ],
      "text/plain": [
       "   RTDO_L   LOCAL VISITANTE  RTDO_VISITANTE jornada  RTDO_L.1 LOCAL.1  \\\n",
       "0       0  Armada      Papu               0  JOR. 1         0    Fale   \n",
       "1       0    Tony      Kike               0  JOR. 1         0    Ruso   \n",
       "2       0   Palop      Kero               0  JOR. 1         0    Lope   \n",
       "\n",
       "  VISITANTE.1  RTDO_V.1  \n",
       "0     Coquina         0  \n",
       "1       Gonzo         0  \n",
       "2       Puche         0  "
      ]
     },
     "execution_count": 8,
     "metadata": {},
     "output_type": "execute_result"
    }
   ],
   "source": [
    "\n",
    "#! PARTIDOS DE LA JORNADA 1:\n",
    "grA_jor1 = partidos_jornadas(ida_gA, 1, 'LOCAL', 'VISITANTE', 'RTDO_L', 'RTDO_VISITANTE')\n",
    "grB_jor1 = partidos_jornadas(ida_gB, 1, 'LOCAL.1', 'VISITANTE.1', 'RTDO_L.1', 'RTDO_V.1')\n",
    "vacio = pd.DataFrame()\n",
    "vacio['jornada'] = ['JOR. 1'] * 3\n",
    "df_jornada_actual  = pd.concat([grA_jor1, vacio, grB_jor1], axis = 1)\n",
    "df_jornada_actual"
   ]
  },
  {
   "cell_type": "code",
   "execution_count": 9,
   "metadata": {},
   "outputs": [],
   "source": [
    "df_jornada_actual\n",
    "# Guardar el DataFrame en un archivo Excel en la carpeta 'data'\n",
    "df_jornada_actual.to_excel('data/jornada_1_inicial.xlsx', index=False)"
   ]
  },
  {
   "cell_type": "markdown",
   "metadata": {},
   "source": [
    "### JORNADA 2\n"
   ]
  },
  {
   "cell_type": "code",
   "execution_count": null,
   "metadata": {},
   "outputs": [],
   "source": [
    "\n",
    "#! PARTIDOS DE LA JORNADA 2:\n",
    "j2_gA = ida_gA\n",
    "j2_gB = ida_gB['Jornada 2']\n",
    "grA_jor2 = partidos_jornadas(ida_gA, 2, 'LOCAL', 'VISITANTE', 'RTDO L', 'RTDO V')\n",
    "grB_jor2 = partidos_jornadas(ida_gB, 2, 'LOCAL.1', 'VISITANTE.1', 'RTDO L.1', 'RTDO V.1')\n",
    "vacio = pd.DataFrame()\n",
    "vacio['Jornada'] = ['JOR. 2'] * 3\n",
    "df_jornada_actual2  = pd.concat([grA_jor2, vacio, grB_jor2], axis = 1)\n",
    "df_jornada_actual2"
   ]
  },
  {
   "cell_type": "code",
   "execution_count": null,
   "metadata": {},
   "outputs": [],
   "source": [
    "#ruta_archivo = os.path.join(carpeta, 'jornada_2_inicial.xlsx')\n",
    "#df_jornada_actual2.to_excel(ruta_archivo, index=False)"
   ]
  },
  {
   "cell_type": "markdown",
   "metadata": {},
   "source": [
    "JORNADA 3"
   ]
  },
  {
   "cell_type": "code",
   "execution_count": null,
   "metadata": {},
   "outputs": [],
   "source": [
    " #! PARTIDOS DE LA JORNADA 3:\n",
    "j3_gA = ida_gA\n",
    "j3_gB = ida_gB['Jornada 3']\n",
    "grA_jor3 = partidos_jornadas(ida_gA, 3, 'LOCAL', 'VISITANTE', 'RTDO L', 'RTDO V')\n",
    "grB_jor3 = partidos_jornadas(ida_gB, 3, 'LOCAL.1', 'VISITANTE.1', 'RTDO L.1', 'RTDO V.1')\n",
    "vacio = pd.DataFrame()\n",
    "vacio['Jornada'] = ['JOR. 3'] * 3\n",
    "df_jornada_actual3  = pd.concat([grA_jor3, vacio, grB_jor3], axis = 1)\n",
    "df_jornada_actual3"
   ]
  },
  {
   "cell_type": "code",
   "execution_count": null,
   "metadata": {},
   "outputs": [],
   "source": [
    "ruta_archivo = os.path.join(carpeta, 'jornada_3_inicial.xlsx')\n",
    "df_jornada_actual3.to_excel(ruta_archivo, index=False)"
   ]
  },
  {
   "cell_type": "code",
   "execution_count": null,
   "metadata": {},
   "outputs": [],
   "source": [
    " #! PARTIDOS DE LA JORNADA 4:\n",
    "j4_gA = ida_gA\n",
    "j4_gB = ida_gB['Jornada 4']\n",
    "grA_jor4 = partidos_jornadas(ida_gA, 4, 'LOCAL', 'VISITANTE', 'RTDO L', 'RTDO V')\n",
    "grB_jor4 = partidos_jornadas(ida_gB, 4, 'LOCAL.1', 'VISITANTE.1', 'RTDO L.1', 'RTDO V.1')\n",
    "vacio = pd.DataFrame()\n",
    "vacio['Jornada'] = ['JOR. 4'] * 3\n",
    "df_jornada_actual4  = pd.concat([grA_jor4, vacio, grB_jor3], axis = 1)\n",
    "df_jornada_actual4"
   ]
  }
 ],
 "metadata": {
  "kernelspec": {
   "display_name": "venv (3.12.3)",
   "language": "python",
   "name": "python3"
  },
  "language_info": {
   "codemirror_mode": {
    "name": "ipython",
    "version": 3
   },
   "file_extension": ".py",
   "mimetype": "text/x-python",
   "name": "python",
   "nbconvert_exporter": "python",
   "pygments_lexer": "ipython3",
   "version": "3.12.3"
  }
 },
 "nbformat": 4,
 "nbformat_minor": 2
}

{
 "cells": [
  {
   "cell_type": "code",
   "execution_count": 5,
   "metadata": {},
   "outputs": [],
   "source": [
    "import pandas as pd\n",
    "import os\n",
    "import sys\n",
    "\n",
    "# Agregar el directorio principal al sys.path\n",
    "sys.path.append(os.path.abspath(os.path.join(os.getcwd(), '..')))\n",
    "from utils.clasf_inicial import clasificacion_inicial\n",
    "\n",
    "df_grupos = pd.read_excel('data/sorteo_grupos.xlsx')\n",
    "grupo_A = list(df_grupos['Grupo A'])\n",
    "grupo_B = list(df_grupos['Grupo B'])"
   ]
  },
  {
   "cell_type": "code",
   "execution_count": 6,
   "metadata": {},
   "outputs": [
    {
     "data": {
      "text/plain": [
       "(     Equipos  Puntos  Nºs 1º  Max.pts  G  P  E  PJ\n",
       " Pos.                                              \n",
       " 1     Armada       0       0        0  0  0  0   0\n",
       " 2       Tony       0       0        0  0  0  0   0\n",
       " 3      Palop       0       0        0  0  0  0   0\n",
       " 4       Kero       0       0        0  0  0  0   0\n",
       " 5       Kike       0       0        0  0  0  0   0\n",
       " 6       Papu       0       0        0  0  0  0   0,\n",
       "       Equipos  Puntos  Nºs 1º  Max.pts  G  P  E  PJ\n",
       " Pos.                                               \n",
       " 1        Fale       0       0        0  0  0  0   0\n",
       " 2        Ruso       0       0        0  0  0  0   0\n",
       " 3        Lope       0       0        0  0  0  0   0\n",
       " 4       Puche       0       0        0  0  0  0   0\n",
       " 5       Gonzo       0       0        0  0  0  0   0\n",
       " 6     Coquina       0       0        0  0  0  0   0)"
      ]
     },
     "execution_count": 6,
     "metadata": {},
     "output_type": "execute_result"
    }
   ],
   "source": [
    "#* VEMOS LA CLASIFICACIÓN INICIAL DE LOS GRUPOS:\n",
    "clasificacion_inicial_gA = clasificacion_inicial(grupo_A)\n",
    "clasificacion_inicial_gB = clasificacion_inicial(grupo_B)\n",
    "clasificacion_inicial_gA, clasificacion_inicial_gB"
   ]
  },
  {
   "cell_type": "code",
   "execution_count": 7,
   "metadata": {},
   "outputs": [],
   "source": [
    "clasificacion_inicial_gA.to_excel('data/clasificacion_inicial_A.xlsx', index=False)\n",
    "clasificacion_inicial_gB.to_excel('data/clasificacion_inicial_B.xlsx', index=False)\n"
   ]
  }
 ],
 "metadata": {
  "kernelspec": {
   "display_name": "venv (3.12.3)",
   "language": "python",
   "name": "python3"
  },
  "language_info": {
   "codemirror_mode": {
    "name": "ipython",
    "version": 3
   },
   "file_extension": ".py",
   "mimetype": "text/x-python",
   "name": "python",
   "nbconvert_exporter": "python",
   "pygments_lexer": "ipython3",
   "version": "3.12.3"
  }
 },
 "nbformat": 4,
 "nbformat_minor": 2
}

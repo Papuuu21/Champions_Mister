{
 "cells": [
  {
   "cell_type": "code",
   "execution_count": 1,
   "metadata": {},
   "outputs": [],
   "source": [
    "import pandas as pd"
   ]
  },
  {
   "cell_type": "code",
   "execution_count": 2,
   "metadata": {},
   "outputs": [],
   "source": [
    " #* PTS EQUIPOS JORNADAS:\n",
    "def pts_equipos2():\n",
    "    palop = int(input('Pts Palop: '))\n",
    "    lope = int(input('Pts Lope: '))\n",
    "    ruso = int(input('Pts Ruso: '))\n",
    "    papu = int(input('Pts Papu: ')) \n",
    "    gonzo = int(input('Pts Gonzo: '))\n",
    "    diego = int(input('Pts Diego: '))\n",
    "    kero = int(input('Pts Kero: ')) \n",
    "    armada = int(input('Pts Armada: '))\n",
    "\n",
    "    return palop, lope, ruso, papu, gonzo, diego, kero, armada"
   ]
  },
  {
   "cell_type": "code",
   "execution_count": 3,
   "metadata": {},
   "outputs": [
    {
     "data": {
      "text/html": [
       "<div>\n",
       "<style scoped>\n",
       "    .dataframe tbody tr th:only-of-type {\n",
       "        vertical-align: middle;\n",
       "    }\n",
       "\n",
       "    .dataframe tbody tr th {\n",
       "        vertical-align: top;\n",
       "    }\n",
       "\n",
       "    .dataframe thead th {\n",
       "        text-align: right;\n",
       "    }\n",
       "</style>\n",
       "<table border=\"1\" class=\"dataframe\">\n",
       "  <thead>\n",
       "    <tr style=\"text-align: right;\">\n",
       "      <th></th>\n",
       "      <th>PTOS LA</th>\n",
       "      <th>LOCAL A</th>\n",
       "      <th>VISITANTE A</th>\n",
       "      <th>PTOS VA</th>\n",
       "      <th>||</th>\n",
       "      <th>PTOS LB</th>\n",
       "      <th>LOCAL B</th>\n",
       "      <th>VISITANTE B</th>\n",
       "      <th>PTOS VB</th>\n",
       "    </tr>\n",
       "  </thead>\n",
       "  <tbody>\n",
       "    <tr>\n",
       "      <th>1</th>\n",
       "      <td>0</td>\n",
       "      <td>ARMADA</td>\n",
       "      <td>PAPU</td>\n",
       "      <td>0</td>\n",
       "      <td>||</td>\n",
       "      <td>0</td>\n",
       "      <td>PUCHE</td>\n",
       "      <td>KERO</td>\n",
       "      <td>0</td>\n",
       "    </tr>\n",
       "    <tr>\n",
       "      <th>2</th>\n",
       "      <td>0</td>\n",
       "      <td>GONZO</td>\n",
       "      <td>PALOP</td>\n",
       "      <td>0</td>\n",
       "      <td>||</td>\n",
       "      <td>0</td>\n",
       "      <td>LOPE</td>\n",
       "      <td>RUSO</td>\n",
       "      <td>0</td>\n",
       "    </tr>\n",
       "  </tbody>\n",
       "</table>\n",
       "</div>"
      ],
      "text/plain": [
       "   PTOS LA LOCAL A VISITANTE A  PTOS VA  ||  PTOS LB LOCAL B VISITANTE B  \\\n",
       "1        0  ARMADA        PAPU        0  ||        0   PUCHE        KERO   \n",
       "2        0   GONZO       PALOP        0  ||        0    LOPE        RUSO   \n",
       "\n",
       "   PTOS VB  \n",
       "1        0  \n",
       "2        0  "
      ]
     },
     "execution_count": 3,
     "metadata": {},
     "output_type": "execute_result"
    }
   ],
   "source": [
    "clasificados = [[0, 'ARMADA', 'PAPU', 0, '||', 0, 'PUCHE', 'KERO', 0], [0, 'GONZO', 'PALOP', 0, '||', 0, 'LOPE', 'RUSO', 0]]\n",
    "\n",
    "columnas = ['PTOS LA', 'LOCAL A', 'VISITANTE A', 'PTOS VA', '||', 'PTOS LB', 'LOCAL B',  'VISITANTE B', 'PTOS VB']\n",
    "cuartos = pd.DataFrame(data= clasificados, index=[1,2], columns=columnas)\n",
    "cuartos"
   ]
  },
  {
   "cell_type": "code",
   "execution_count": 4,
   "metadata": {},
   "outputs": [],
   "source": [
    "cuartos.to_excel('data/cuartos.xlsx')"
   ]
  },
  {
   "cell_type": "code",
   "execution_count": null,
   "metadata": {},
   "outputs": [],
   "source": [
    " #!VOY POR AQUI CUANDO SE JUEGUE LA JORNADA 20 AÑADIR LOS PUNTOS A LOS EQUIPOS\n",
    "palop, lope, ruso, papu, gonzo, puche, kero, armada = pts_equipos2()\n",
    "resultados = {\n",
    "    'Lope': lope, 'Palop': palop, 'Kero': kero, 'Ruso': ruso, 'Puche': puche, 'Armada': armada, 'Papu': papu, 'Gonzo': gonzo\n",
    "}\n",
    "\n",
    "resultados"
   ]
  }
 ],
 "metadata": {
  "kernelspec": {
   "display_name": "venv",
   "language": "python",
   "name": "python3"
  },
  "language_info": {
   "codemirror_mode": {
    "name": "ipython",
    "version": 3
   },
   "file_extension": ".py",
   "mimetype": "text/x-python",
   "name": "python",
   "nbconvert_exporter": "python",
   "pygments_lexer": "ipython3",
   "version": "3.12.3"
  }
 },
 "nbformat": 4,
 "nbformat_minor": 2
}

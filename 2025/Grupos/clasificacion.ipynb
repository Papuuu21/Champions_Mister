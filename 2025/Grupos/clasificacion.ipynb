{
 "cells": [
  {
   "cell_type": "code",
   "execution_count": 2,
   "metadata": {},
   "outputs": [],
   "source": [
    "import pandas as pd\n",
    "import os\n",
    "from utils.clasf_inicial import clasificacion_inicial\n",
    "\n",
    "df_grupos = pd.read_excel('sorteo_grupos.xlsx')\n",
    "grupo_A = list(df_grupos['Grupo A'])\n",
    "grupo_B = list(df_grupos['Grupo B'])\n",
    "\n",
    "# Ruta a la carpeta 'data'\n",
    "carpeta = 'data'\n",
    "\n",
    "# Verificar si la carpeta existe, y si no, crearla\n",
    "if not os.path.exists(carpeta):\n",
    "    os.makedirs(carpeta)"
   ]
  },
  {
   "cell_type": "code",
   "execution_count": 3,
   "metadata": {},
   "outputs": [],
   "source": [
    "#* VEMOS LA CLASIFICACIÓN INICIAL DE LOS GRUPOS:\n",
    "clasificacion_inicial_gA = clasificacion_inicial(grupo_A)\n",
    "clasificacion_inicial_gB = clasificacion_inicial(grupo_B)\n",
    "clasificacion_inicial_gA\n",
    "ruta_archivo = os.path.join(carpeta, 'clasificacion_inicial_A.xlsx')\n",
    "clasificacion_inicial_gA.to_excel(ruta_archivo, index=False)"
   ]
  },
  {
   "cell_type": "code",
   "execution_count": 4,
   "metadata": {},
   "outputs": [],
   "source": [
    "clasificacion_inicial_gB\n",
    "# Guardar el DataFrame en un archivo Excel en la carpeta 'data'\n",
    "ruta_archivo = os.path.join(carpeta, 'clasificacion_inicial_B.xlsx')\n",
    "clasificacion_inicial_gB.to_excel(ruta_archivo, index=False)\n"
   ]
  }
 ],
 "metadata": {
  "kernelspec": {
   "display_name": "venv",
   "language": "python",
   "name": "python3"
  },
  "language_info": {
   "codemirror_mode": {
    "name": "ipython",
    "version": 3
   },
   "file_extension": ".py",
   "mimetype": "text/x-python",
   "name": "python",
   "nbconvert_exporter": "python",
   "pygments_lexer": "ipython3",
   "version": "3.12.3"
  }
 },
 "nbformat": 4,
 "nbformat_minor": 2
}

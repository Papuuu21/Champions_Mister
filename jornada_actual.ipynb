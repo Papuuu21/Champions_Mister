{
 "cells": [
  {
   "cell_type": "code",
   "execution_count": 1,
   "metadata": {},
   "outputs": [],
   "source": [
    "import pandas as pd\n",
    "import os\n",
    "from utils.generar_enfrent import generar_enfrentamientos\n",
    "from utils.vuelta_grupos import vuelta_gr\n",
    "from utils.df_enfrentamientos import df_ida_o_vuelta\n",
    "from utils.enfrentamientos_sinVS import df_partidos\n",
    "from utils.descomp_tupla_columnas import descomponer_tupla\n",
    "\n",
    " #* Ruta a la carpeta 'data'\n",
    "carpeta = 'data'"
   ]
  },
  {
   "cell_type": "code",
   "execution_count": 2,
   "metadata": {},
   "outputs": [],
   "source": [
    "def partidos_jornadas(df_partidos, num_jornada, col_local, col_visitante, col_rtdo_local, col_rtdo_visitante):\n",
    "    df_partidos_jornada = pd.DataFrame()\n",
    "    #* Aplicando la función a la columna 'datos' y creando nuevas columnas\n",
    "    df_partidos_jornada[[col_local, col_visitante]] = df_partidos[f'Jornada {num_jornada}'].apply(descomponer_tupla) #* Usamos la función apply() para aplicar una función a una columna de un dataframe\n",
    "    df_partidos_jornada[col_rtdo_visitante] = 0\n",
    "    df_partidos_jornada.insert(0, col_rtdo_local, 0)\n",
    "    \n",
    "    return df_partidos_jornada"
   ]
  },
  {
   "cell_type": "code",
   "execution_count": 3,
   "metadata": {},
   "outputs": [],
   "source": [
    "df_grupos = pd.read_excel('sorteo_grupos.xlsx')\n",
    "grupo_A = list(df_grupos['Grupo A'])\n",
    "grupo_B = list(df_grupos['Grupo B'])"
   ]
  },
  {
   "cell_type": "code",
   "execution_count": 4,
   "metadata": {},
   "outputs": [],
   "source": [
    " #* GRUPO A:\n",
    "ida_grA = generar_enfrentamientos(grupo_A) #* Generar partidos de ida\n",
    "vuelta_grA = vuelta_gr(ida_grA) #* Generar partidos de vuelta\n",
    "df_ida_grA = df_ida_o_vuelta(ida_grA)  #* Generar DF de los partidos de ida\n",
    "df_vuelta_grA = df_ida_o_vuelta(vuelta_grA, 6) #* El 6 indica el inicio de la jornada de los partidos de vuelta\n",
    "idx_grA = 'GRUPO A'\n",
    "calendario_grA = pd.concat([df_ida_grA, df_vuelta_grA], axis = 1) #* Crear dataframe con todos los partidos de ida y vuelta gr1\n",
    "calendario_grA['GRUPO'] = idx_grA\n",
    "calendario_grA.set_index('GRUPO', drop=True, append=False, inplace=True) #* Cambiar el indice del DF para distinguir los grupos al juntarlos\n",
    "#calendario_grA #* Usar para VISUALIZAR LOS PARTIDOS DE IDA Y VUELTA DEL GRUPO 1\n",
    "\n",
    "#* GRUPO B:\n",
    "ida_grB = generar_enfrentamientos(grupo_B) #* Generar partidos de ida\n",
    "vuelta_grB = vuelta_gr(ida_grB) #* Generar partidos de vuelta\n",
    "df_ida_grB = df_ida_o_vuelta(ida_grB)  #* Generar DF de los partidos de ida\n",
    "df_vuelta_grB = df_ida_o_vuelta(vuelta_grB, 6) #* El 6 indica el inicio de la jornada de los partidos de vuelta\n",
    "idx_grB = 'GRUPO B'\n",
    "calendario_grB = pd.concat([df_ida_grB, df_vuelta_grB], axis = 1) #* Crear dataframe con todos los partidos de ida y vuelta gr2\n",
    "calendario_grB['GRUPO'] = idx_grB\n",
    "calendario_grB.set_index('GRUPO', drop=True, append=False, inplace=True) #* Cambiar el indice del DF para distinguir los grupos al juntarlos\n",
    "#calendario_grB #* Usar para VISUALIZAR LOS PARTIDOS DE IDA Y VUELTA DEL GRUPO 2"
   ]
  },
  {
   "cell_type": "code",
   "execution_count": 5,
   "metadata": {},
   "outputs": [],
   "source": [
    " #! JORNADAS DE IFA SIN FORMATO PARA GENERAR  CADA JORNADA\n",
    "ida_gA = df_partidos(ida_grA)\n",
    "ida_gB = df_partidos(ida_grB)"
   ]
  },
  {
   "cell_type": "code",
   "execution_count": 9,
   "metadata": {},
   "outputs": [
    {
     "data": {
      "text/html": [
       "<div>\n",
       "<style scoped>\n",
       "    .dataframe tbody tr th:only-of-type {\n",
       "        vertical-align: middle;\n",
       "    }\n",
       "\n",
       "    .dataframe tbody tr th {\n",
       "        vertical-align: top;\n",
       "    }\n",
       "\n",
       "    .dataframe thead th {\n",
       "        text-align: right;\n",
       "    }\n",
       "</style>\n",
       "<table border=\"1\" class=\"dataframe\">\n",
       "  <thead>\n",
       "    <tr style=\"text-align: right;\">\n",
       "      <th></th>\n",
       "      <th>Jornada 1</th>\n",
       "      <th>Jornada 2</th>\n",
       "      <th>Jornada 3</th>\n",
       "      <th>Jornada 4</th>\n",
       "      <th>Jornada 5</th>\n",
       "    </tr>\n",
       "  </thead>\n",
       "  <tbody>\n",
       "    <tr>\n",
       "      <th>0</th>\n",
       "      <td>(Diego, Coquina)</td>\n",
       "      <td>(Diego, Armada)</td>\n",
       "      <td>(Diego, Gonzo)</td>\n",
       "      <td>(Diego, Papu)</td>\n",
       "      <td>(Diego, Kike)</td>\n",
       "    </tr>\n",
       "    <tr>\n",
       "      <th>1</th>\n",
       "      <td>(Kike, Armada)</td>\n",
       "      <td>(Coquina, Gonzo)</td>\n",
       "      <td>(Armada, Papu)</td>\n",
       "      <td>(Gonzo, Kike)</td>\n",
       "      <td>(Papu, Coquina)</td>\n",
       "    </tr>\n",
       "    <tr>\n",
       "      <th>2</th>\n",
       "      <td>(Papu, Gonzo)</td>\n",
       "      <td>(Kike, Papu)</td>\n",
       "      <td>(Coquina, Kike)</td>\n",
       "      <td>(Armada, Coquina)</td>\n",
       "      <td>(Gonzo, Armada)</td>\n",
       "    </tr>\n",
       "  </tbody>\n",
       "</table>\n",
       "</div>"
      ],
      "text/plain": [
       "          Jornada 1         Jornada 2        Jornada 3          Jornada 4  \\\n",
       "0  (Diego, Coquina)   (Diego, Armada)   (Diego, Gonzo)      (Diego, Papu)   \n",
       "1    (Kike, Armada)  (Coquina, Gonzo)   (Armada, Papu)      (Gonzo, Kike)   \n",
       "2     (Papu, Gonzo)      (Kike, Papu)  (Coquina, Kike)  (Armada, Coquina)   \n",
       "\n",
       "         Jornada 5  \n",
       "0    (Diego, Kike)  \n",
       "1  (Papu, Coquina)  \n",
       "2  (Gonzo, Armada)  "
      ]
     },
     "execution_count": 9,
     "metadata": {},
     "output_type": "execute_result"
    }
   ],
   "source": [
    "ida_gB"
   ]
  },
  {
   "cell_type": "markdown",
   "metadata": {},
   "source": [
    "## JORNADA ACTUAL -> CAMBIAR DESDE AQUI LO ANTERIOR NO SE MODIFICA:"
   ]
  },
  {
   "cell_type": "code",
   "execution_count": null,
   "metadata": {},
   "outputs": [],
   "source": [
    " #! PARTIDOS DE LA JORNADA 5:\n",
    "j5_gA = ida_gA\n",
    "j5_gB = ida_gB['Jornada 5']\n",
    "grA_jor5 = partidos_jornadas(ida_gA, 5, 'LOCAL', 'VISITANTE', 'RTDO L', 'RTDO V')\n",
    "grB_jor5 = partidos_jornadas(ida_gB, 5, 'LOCAL.1', 'VISITANTE.1', 'RTDO L.1', 'RTDO V.1')\n",
    "vacio = pd.DataFrame()\n",
    "vacio['Jornada'] = ['JOR. 5'] * 3\n",
    "df_jornada_actual5  = pd.concat([grA_jor5, vacio, grB_jor5], axis = 1)\n",
    "df_jornada_actual5"
   ]
  },
  {
   "cell_type": "code",
   "execution_count": null,
   "metadata": {},
   "outputs": [],
   "source": [
    "ruta_archivo = os.path.join(carpeta, 'jornada_5_inicial.xlsx')\n",
    "df_jornada_actual5.to_excel(ruta_archivo, index=False)"
   ]
  },
  {
   "cell_type": "markdown",
   "metadata": {},
   "source": [
    "## PARTIDOS VUELTA JORNADA ACTUAL"
   ]
  },
  {
   "cell_type": "code",
   "execution_count": 38,
   "metadata": {},
   "outputs": [
    {
     "data": {
      "text/html": [
       "<div>\n",
       "<style scoped>\n",
       "    .dataframe tbody tr th:only-of-type {\n",
       "        vertical-align: middle;\n",
       "    }\n",
       "\n",
       "    .dataframe tbody tr th {\n",
       "        vertical-align: top;\n",
       "    }\n",
       "\n",
       "    .dataframe thead th {\n",
       "        text-align: right;\n",
       "    }\n",
       "</style>\n",
       "<table border=\"1\" class=\"dataframe\">\n",
       "  <thead>\n",
       "    <tr style=\"text-align: right;\">\n",
       "      <th></th>\n",
       "      <th>RTDO_L</th>\n",
       "      <th>LOCAL</th>\n",
       "      <th>VISITANTE</th>\n",
       "      <th>RTDO_VISITANTE</th>\n",
       "      <th>jornada</th>\n",
       "      <th>RTDO_L.1</th>\n",
       "      <th>LOCAL.1</th>\n",
       "      <th>VISITANTE.1</th>\n",
       "      <th>RTDO_V.1</th>\n",
       "    </tr>\n",
       "  </thead>\n",
       "  <tbody>\n",
       "    <tr>\n",
       "      <th>0</th>\n",
       "      <td>0</td>\n",
       "      <td>Lope</td>\n",
       "      <td>Palop</td>\n",
       "      <td>0</td>\n",
       "      <td>JOR. 6</td>\n",
       "      <td>0</td>\n",
       "      <td>Puche</td>\n",
       "      <td>Coquina</td>\n",
       "      <td>0</td>\n",
       "    </tr>\n",
       "    <tr>\n",
       "      <th>1</th>\n",
       "      <td>0</td>\n",
       "      <td>Fale</td>\n",
       "      <td>Kero</td>\n",
       "      <td>0</td>\n",
       "      <td>JOR. 6</td>\n",
       "      <td>0</td>\n",
       "      <td>Kike</td>\n",
       "      <td>Armada</td>\n",
       "      <td>0</td>\n",
       "    </tr>\n",
       "    <tr>\n",
       "      <th>2</th>\n",
       "      <td>0</td>\n",
       "      <td>Ruso</td>\n",
       "      <td>Tony</td>\n",
       "      <td>0</td>\n",
       "      <td>JOR. 6</td>\n",
       "      <td>0</td>\n",
       "      <td>Papu</td>\n",
       "      <td>Gonzo</td>\n",
       "      <td>0</td>\n",
       "    </tr>\n",
       "  </tbody>\n",
       "</table>\n",
       "</div>"
      ],
      "text/plain": [
       "   RTDO_L LOCAL VISITANTE  RTDO_VISITANTE jornada  RTDO_L.1 LOCAL.1  \\\n",
       "0       0  Lope     Palop               0  JOR. 6         0   Puche   \n",
       "1       0  Fale      Kero               0  JOR. 6         0    Kike   \n",
       "2       0  Ruso      Tony               0  JOR. 6         0    Papu   \n",
       "\n",
       "  VISITANTE.1  RTDO_V.1  \n",
       "0     Coquina         0  \n",
       "1      Armada         0  \n",
       "2       Gonzo         0  "
      ]
     },
     "execution_count": 38,
     "metadata": {},
     "output_type": "execute_result"
    }
   ],
   "source": [
    "# Tomar solo los partidos de la \"Jornada 6\"\n",
    "jornada6 = df_vuelta_grA['Jornada 6']\n",
    "# Separar \"Local\" y \"Visitante\" dividiendo la cadena por ' VS '\n",
    "jornada6_split = jornada6.str.split(' VS ', expand=True)\n",
    "jornada6_split.columns = ['LOCAL', 'VISITANTE']\n",
    "jornada6\n",
    "# Crear el nuevo DataFrame con el formato deseado\n",
    "jornada_actual = pd.DataFrame({\n",
    "    'RTDO_L': [0] * len(jornada6_split),  # Columna de resultados locales (inicialmente en 0)\n",
    "    'LOCAL': jornada6_split['LOCAL'],     # Columna de equipos locales\n",
    "    'VISITANTE': jornada6_split['VISITANTE'],  # Columna de equipos visitantes\n",
    "    'RTDO_VISITANTE': [0] * len(jornada6_split),  # Columna de resultados visitantes (inicialmente en 0)\n",
    "    'jornada': ['JOR. 6'] * len(jornada6_split),  # Columna de la jornada (aquí es \"JOR. 1\")\n",
    "    # Columnas adicionales para un segundo grupo de partidos\n",
    "    'RTDO_L.1': [0] * len(jornada6_split),\n",
    "    'LOCAL.1': ['Diego', 'Kike', 'Papu'],  # Ejemplo de equipos adicionales (puedes cambiarlos)\n",
    "    'VISITANTE.1': ['Coquina', 'Armada', 'Gonzo'],  # Ejemplo de visitantes adicionales\n",
    "    'RTDO_V.1': [0] * len(jornada6_split)\n",
    "})\n",
    "\n",
    "jornada_actual.loc[0, 'LOCAL.1'] = 'Puche'\n",
    "jornada_actual"
   ]
  },
  {
   "cell_type": "code",
   "execution_count": 39,
   "metadata": {},
   "outputs": [],
   "source": [
    "ruta_archivo = os.path.join(carpeta, 'jornada_6_inicial.xlsx')\n",
    "jornada_actual.to_excel(ruta_archivo, index=False)\n",
    "\n",
    "\n"
   ]
  }
 ],
 "metadata": {
  "kernelspec": {
   "display_name": "venv",
   "language": "python",
   "name": "python3"
  },
  "language_info": {
   "codemirror_mode": {
    "name": "ipython",
    "version": 3
   },
   "file_extension": ".py",
   "mimetype": "text/x-python",
   "name": "python",
   "nbconvert_exporter": "python",
   "pygments_lexer": "ipython3",
   "version": "3.12.3"
  }
 },
 "nbformat": 4,
 "nbformat_minor": 2
}

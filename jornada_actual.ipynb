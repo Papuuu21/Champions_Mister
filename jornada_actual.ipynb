{
 "cells": [
  {
   "cell_type": "code",
   "execution_count": 2,
   "metadata": {},
   "outputs": [],
   "source": [
    "import pandas as pd\n",
    "import os\n",
    "from utils.generar_enfrent import generar_enfrentamientos\n",
    "from utils.vuelta_grupos import vuelta_gr\n",
    "from utils.df_enfrentamientos import df_ida_o_vuelta\n",
    "from utils.enfrentamientos_sinVS import df_partidos\n",
    "from utils.descomp_tupla_columnas import descomponer_tupla\n",
    "\n",
    " #* Ruta a la carpeta 'data'\n",
    "carpeta = 'data'"
   ]
  },
  {
   "cell_type": "code",
   "execution_count": 3,
   "metadata": {},
   "outputs": [],
   "source": [
    "def partidos_jornadas(df_partidos, num_jornada, col_local, col_visitante, col_rtdo_local, col_rtdo_visitante):\n",
    "    df_partidos_jornada = pd.DataFrame()\n",
    "    #* Aplicando la función a la columna 'datos' y creando nuevas columnas\n",
    "    df_partidos_jornada[[col_local, col_visitante]] = df_partidos[f'Jornada {num_jornada}'].apply(descomponer_tupla) #* Usamos la función apply() para aplicar una función a una columna de un dataframe\n",
    "    df_partidos_jornada[col_rtdo_visitante] = 0\n",
    "    df_partidos_jornada.insert(0, col_rtdo_local, 0)\n",
    "    \n",
    "    return df_partidos_jornada"
   ]
  },
  {
   "cell_type": "code",
   "execution_count": 4,
   "metadata": {},
   "outputs": [],
   "source": [
    "df_grupos = pd.read_excel('sorteo_grupos.xlsx')\n",
    "grupo_A = list(df_grupos['Grupo A'])\n",
    "grupo_B = list(df_grupos['Grupo B'])"
   ]
  },
  {
   "cell_type": "code",
   "execution_count": 9,
   "metadata": {},
   "outputs": [],
   "source": [
    " #* GRUPO A:\n",
    "ida_grA = generar_enfrentamientos(grupo_A) #* Generar partidos de ida\n",
    "vuelta_grA = vuelta_gr(ida_grA) #* Generar partidos de vuelta\n",
    "df_ida_grA = df_ida_o_vuelta(ida_grA)  #* Generar DF de los partidos de ida\n",
    "df_vuelta_grA = df_ida_o_vuelta(vuelta_grA, 6) #* El 6 indica el inicio de la jornada de los partidos de vuelta\n",
    "idx_grA = 'GRUPO A'\n",
    "calendario_grA = pd.concat([df_ida_grA, df_vuelta_grA], axis = 1) #* Crear dataframe con todos los partidos de ida y vuelta gr1\n",
    "calendario_grA['GRUPO'] = idx_grA\n",
    "calendario_grA.set_index('GRUPO', drop=True, append=False, inplace=True) #* Cambiar el indice del DF para distinguir los grupos al juntarlos\n",
    "#calendario_grA #* Usar para VISUALIZAR LOS PARTIDOS DE IDA Y VUELTA DEL GRUPO 1\n",
    "\n",
    "#* GRUPO B:\n",
    "ida_grB = generar_enfrentamientos(grupo_B) #* Generar partidos de ida\n",
    "vuelta_grB = vuelta_gr(ida_grB) #* Generar partidos de vuelta\n",
    "df_ida_grB = df_ida_o_vuelta(ida_grB)  #* Generar DF de los partidos de ida\n",
    "df_vuelta_grB = df_ida_o_vuelta(vuelta_grB, 6) #* El 6 indica el inicio de la jornada de los partidos de vuelta\n",
    "idx_grB = 'GRUPO B'\n",
    "calendario_grB = pd.concat([df_ida_grB, df_vuelta_grB], axis = 1) #* Crear dataframe con todos los partidos de ida y vuelta gr2\n",
    "calendario_grB['GRUPO'] = idx_grB\n",
    "calendario_grB.set_index('GRUPO', drop=True, append=False, inplace=True) #* Cambiar el indice del DF para distinguir los grupos al juntarlos\n",
    "#calendario_grB #* Usar para VISUALIZAR LOS PARTIDOS DE IDA Y VUELTA DEL GRUPO 2"
   ]
  },
  {
   "cell_type": "code",
   "execution_count": 6,
   "metadata": {},
   "outputs": [],
   "source": [
    " #! JORNADAS DE IFA SIN FORMATO PARA GENERAR  CADA JORNADA\n",
    "ida_gA = df_partidos(ida_grA)\n",
    "ida_gB = df_partidos(ida_grB)"
   ]
  },
  {
   "cell_type": "code",
   "execution_count": 7,
   "metadata": {},
   "outputs": [
    {
     "data": {
      "text/html": [
       "<div>\n",
       "<style scoped>\n",
       "    .dataframe tbody tr th:only-of-type {\n",
       "        vertical-align: middle;\n",
       "    }\n",
       "\n",
       "    .dataframe tbody tr th {\n",
       "        vertical-align: top;\n",
       "    }\n",
       "\n",
       "    .dataframe thead th {\n",
       "        text-align: right;\n",
       "    }\n",
       "</style>\n",
       "<table border=\"1\" class=\"dataframe\">\n",
       "  <thead>\n",
       "    <tr style=\"text-align: right;\">\n",
       "      <th></th>\n",
       "      <th>Jornada 1</th>\n",
       "      <th>Jornada 2</th>\n",
       "      <th>Jornada 3</th>\n",
       "      <th>Jornada 4</th>\n",
       "      <th>Jornada 5</th>\n",
       "    </tr>\n",
       "  </thead>\n",
       "  <tbody>\n",
       "    <tr>\n",
       "      <th>0</th>\n",
       "      <td>(Diego, Coquina)</td>\n",
       "      <td>(Diego, Armada)</td>\n",
       "      <td>(Diego, Gonzo)</td>\n",
       "      <td>(Diego, Papu)</td>\n",
       "      <td>(Diego, Kike)</td>\n",
       "    </tr>\n",
       "    <tr>\n",
       "      <th>1</th>\n",
       "      <td>(Kike, Armada)</td>\n",
       "      <td>(Coquina, Gonzo)</td>\n",
       "      <td>(Armada, Papu)</td>\n",
       "      <td>(Gonzo, Kike)</td>\n",
       "      <td>(Papu, Coquina)</td>\n",
       "    </tr>\n",
       "    <tr>\n",
       "      <th>2</th>\n",
       "      <td>(Papu, Gonzo)</td>\n",
       "      <td>(Kike, Papu)</td>\n",
       "      <td>(Coquina, Kike)</td>\n",
       "      <td>(Armada, Coquina)</td>\n",
       "      <td>(Gonzo, Armada)</td>\n",
       "    </tr>\n",
       "  </tbody>\n",
       "</table>\n",
       "</div>"
      ],
      "text/plain": [
       "          Jornada 1         Jornada 2        Jornada 3          Jornada 4  \\\n",
       "0  (Diego, Coquina)   (Diego, Armada)   (Diego, Gonzo)      (Diego, Papu)   \n",
       "1    (Kike, Armada)  (Coquina, Gonzo)   (Armada, Papu)      (Gonzo, Kike)   \n",
       "2     (Papu, Gonzo)      (Kike, Papu)  (Coquina, Kike)  (Armada, Coquina)   \n",
       "\n",
       "         Jornada 5  \n",
       "0    (Diego, Kike)  \n",
       "1  (Papu, Coquina)  \n",
       "2  (Gonzo, Armada)  "
      ]
     },
     "execution_count": 7,
     "metadata": {},
     "output_type": "execute_result"
    }
   ],
   "source": [
    "ida_gB"
   ]
  },
  {
   "cell_type": "markdown",
   "metadata": {},
   "source": [
    "## JORNADA ACTUAL -> CAMBIAR DESDE AQUI LO ANTERIOR NO SE MODIFICA:"
   ]
  },
  {
   "cell_type": "code",
   "execution_count": 8,
   "metadata": {},
   "outputs": [
    {
     "ename": "KeyError",
     "evalue": "'Jornada 6'",
     "output_type": "error",
     "traceback": [
      "\u001b[1;31m---------------------------------------------------------------------------\u001b[0m",
      "\u001b[1;31mKeyError\u001b[0m                                  Traceback (most recent call last)",
      "File \u001b[1;32mc:\\Users\\papui\\AppData\\Local\\Programs\\Python\\Python312\\Lib\\site-packages\\pandas\\core\\indexes\\base.py:3805\u001b[0m, in \u001b[0;36mIndex.get_loc\u001b[1;34m(self, key)\u001b[0m\n\u001b[0;32m   3804\u001b[0m \u001b[38;5;28;01mtry\u001b[39;00m:\n\u001b[1;32m-> 3805\u001b[0m     \u001b[38;5;28;01mreturn\u001b[39;00m \u001b[38;5;28;43mself\u001b[39;49m\u001b[38;5;241;43m.\u001b[39;49m\u001b[43m_engine\u001b[49m\u001b[38;5;241;43m.\u001b[39;49m\u001b[43mget_loc\u001b[49m\u001b[43m(\u001b[49m\u001b[43mcasted_key\u001b[49m\u001b[43m)\u001b[49m\n\u001b[0;32m   3806\u001b[0m \u001b[38;5;28;01mexcept\u001b[39;00m \u001b[38;5;167;01mKeyError\u001b[39;00m \u001b[38;5;28;01mas\u001b[39;00m err:\n",
      "File \u001b[1;32mindex.pyx:167\u001b[0m, in \u001b[0;36mpandas._libs.index.IndexEngine.get_loc\u001b[1;34m()\u001b[0m\n",
      "File \u001b[1;32mindex.pyx:196\u001b[0m, in \u001b[0;36mpandas._libs.index.IndexEngine.get_loc\u001b[1;34m()\u001b[0m\n",
      "File \u001b[1;32mpandas\\\\_libs\\\\hashtable_class_helper.pxi:7081\u001b[0m, in \u001b[0;36mpandas._libs.hashtable.PyObjectHashTable.get_item\u001b[1;34m()\u001b[0m\n",
      "File \u001b[1;32mpandas\\\\_libs\\\\hashtable_class_helper.pxi:7089\u001b[0m, in \u001b[0;36mpandas._libs.hashtable.PyObjectHashTable.get_item\u001b[1;34m()\u001b[0m\n",
      "\u001b[1;31mKeyError\u001b[0m: 'Jornada 6'",
      "\nThe above exception was the direct cause of the following exception:\n",
      "\u001b[1;31mKeyError\u001b[0m                                  Traceback (most recent call last)",
      "Cell \u001b[1;32mIn[8], line 3\u001b[0m\n\u001b[0;32m      1\u001b[0m \u001b[38;5;66;03m#! PARTIDOS DE LA JORNADA 6:\u001b[39;00m\n\u001b[0;32m      2\u001b[0m j6_gA \u001b[38;5;241m=\u001b[39m ida_gA\n\u001b[1;32m----> 3\u001b[0m j6_gB \u001b[38;5;241m=\u001b[39m \u001b[43mida_gB\u001b[49m\u001b[43m[\u001b[49m\u001b[38;5;124;43m'\u001b[39;49m\u001b[38;5;124;43mJornada 6\u001b[39;49m\u001b[38;5;124;43m'\u001b[39;49m\u001b[43m]\u001b[49m\n\u001b[0;32m      4\u001b[0m grA_jor5 \u001b[38;5;241m=\u001b[39m partidos_jornadas(ida_gA, \u001b[38;5;241m5\u001b[39m, \u001b[38;5;124m'\u001b[39m\u001b[38;5;124mLOCAL\u001b[39m\u001b[38;5;124m'\u001b[39m, \u001b[38;5;124m'\u001b[39m\u001b[38;5;124mVISITANTE\u001b[39m\u001b[38;5;124m'\u001b[39m, \u001b[38;5;124m'\u001b[39m\u001b[38;5;124mRTDO L\u001b[39m\u001b[38;5;124m'\u001b[39m, \u001b[38;5;124m'\u001b[39m\u001b[38;5;124mRTDO V\u001b[39m\u001b[38;5;124m'\u001b[39m)\n\u001b[0;32m      5\u001b[0m grB_jor5 \u001b[38;5;241m=\u001b[39m partidos_jornadas(ida_gB, \u001b[38;5;241m5\u001b[39m, \u001b[38;5;124m'\u001b[39m\u001b[38;5;124mLOCAL.1\u001b[39m\u001b[38;5;124m'\u001b[39m, \u001b[38;5;124m'\u001b[39m\u001b[38;5;124mVISITANTE.1\u001b[39m\u001b[38;5;124m'\u001b[39m, \u001b[38;5;124m'\u001b[39m\u001b[38;5;124mRTDO L.1\u001b[39m\u001b[38;5;124m'\u001b[39m, \u001b[38;5;124m'\u001b[39m\u001b[38;5;124mRTDO V.1\u001b[39m\u001b[38;5;124m'\u001b[39m)\n",
      "File \u001b[1;32mc:\\Users\\papui\\AppData\\Local\\Programs\\Python\\Python312\\Lib\\site-packages\\pandas\\core\\frame.py:4102\u001b[0m, in \u001b[0;36mDataFrame.__getitem__\u001b[1;34m(self, key)\u001b[0m\n\u001b[0;32m   4100\u001b[0m \u001b[38;5;28;01mif\u001b[39;00m \u001b[38;5;28mself\u001b[39m\u001b[38;5;241m.\u001b[39mcolumns\u001b[38;5;241m.\u001b[39mnlevels \u001b[38;5;241m>\u001b[39m \u001b[38;5;241m1\u001b[39m:\n\u001b[0;32m   4101\u001b[0m     \u001b[38;5;28;01mreturn\u001b[39;00m \u001b[38;5;28mself\u001b[39m\u001b[38;5;241m.\u001b[39m_getitem_multilevel(key)\n\u001b[1;32m-> 4102\u001b[0m indexer \u001b[38;5;241m=\u001b[39m \u001b[38;5;28;43mself\u001b[39;49m\u001b[38;5;241;43m.\u001b[39;49m\u001b[43mcolumns\u001b[49m\u001b[38;5;241;43m.\u001b[39;49m\u001b[43mget_loc\u001b[49m\u001b[43m(\u001b[49m\u001b[43mkey\u001b[49m\u001b[43m)\u001b[49m\n\u001b[0;32m   4103\u001b[0m \u001b[38;5;28;01mif\u001b[39;00m is_integer(indexer):\n\u001b[0;32m   4104\u001b[0m     indexer \u001b[38;5;241m=\u001b[39m [indexer]\n",
      "File \u001b[1;32mc:\\Users\\papui\\AppData\\Local\\Programs\\Python\\Python312\\Lib\\site-packages\\pandas\\core\\indexes\\base.py:3812\u001b[0m, in \u001b[0;36mIndex.get_loc\u001b[1;34m(self, key)\u001b[0m\n\u001b[0;32m   3807\u001b[0m     \u001b[38;5;28;01mif\u001b[39;00m \u001b[38;5;28misinstance\u001b[39m(casted_key, \u001b[38;5;28mslice\u001b[39m) \u001b[38;5;129;01mor\u001b[39;00m (\n\u001b[0;32m   3808\u001b[0m         \u001b[38;5;28misinstance\u001b[39m(casted_key, abc\u001b[38;5;241m.\u001b[39mIterable)\n\u001b[0;32m   3809\u001b[0m         \u001b[38;5;129;01mand\u001b[39;00m \u001b[38;5;28many\u001b[39m(\u001b[38;5;28misinstance\u001b[39m(x, \u001b[38;5;28mslice\u001b[39m) \u001b[38;5;28;01mfor\u001b[39;00m x \u001b[38;5;129;01min\u001b[39;00m casted_key)\n\u001b[0;32m   3810\u001b[0m     ):\n\u001b[0;32m   3811\u001b[0m         \u001b[38;5;28;01mraise\u001b[39;00m InvalidIndexError(key)\n\u001b[1;32m-> 3812\u001b[0m     \u001b[38;5;28;01mraise\u001b[39;00m \u001b[38;5;167;01mKeyError\u001b[39;00m(key) \u001b[38;5;28;01mfrom\u001b[39;00m \u001b[38;5;21;01merr\u001b[39;00m\n\u001b[0;32m   3813\u001b[0m \u001b[38;5;28;01mexcept\u001b[39;00m \u001b[38;5;167;01mTypeError\u001b[39;00m:\n\u001b[0;32m   3814\u001b[0m     \u001b[38;5;66;03m# If we have a listlike key, _check_indexing_error will raise\u001b[39;00m\n\u001b[0;32m   3815\u001b[0m     \u001b[38;5;66;03m#  InvalidIndexError. Otherwise we fall through and re-raise\u001b[39;00m\n\u001b[0;32m   3816\u001b[0m     \u001b[38;5;66;03m#  the TypeError.\u001b[39;00m\n\u001b[0;32m   3817\u001b[0m     \u001b[38;5;28mself\u001b[39m\u001b[38;5;241m.\u001b[39m_check_indexing_error(key)\n",
      "\u001b[1;31mKeyError\u001b[0m: 'Jornada 6'"
     ]
    }
   ],
   "source": [
    " #! PARTIDOS DE LA JORNADA 6:\n",
    "j6_gA = ida_gA\n",
    "j6_gB = ida_gB['Jornada 6']\n",
    "grA_jor5 = partidos_jornadas(ida_gA, 5, 'LOCAL', 'VISITANTE', 'RTDO L', 'RTDO V')\n",
    "grB_jor5 = partidos_jornadas(ida_gB, 5, 'LOCAL.1', 'VISITANTE.1', 'RTDO L.1', 'RTDO V.1')\n",
    "vacio = pd.DataFrame()\n",
    "vacio['Jornada'] = ['JOR. 5'] * 3\n",
    "df_jornada_actual5  = pd.concat([grA_jor5, vacio, grB_jor5], axis = 1)\n",
    "df_jornada_actual5"
   ]
  },
  {
   "cell_type": "code",
   "execution_count": null,
   "metadata": {},
   "outputs": [],
   "source": [
    "#ruta_archivo = os.path.join(carpeta, 'jornada_5_inicial.xlsx')\n",
    "# df_jornada_actual5.to_excel(ruta_archivo, index=False)"
   ]
  },
  {
   "cell_type": "markdown",
   "metadata": {},
   "source": [
    "## PARTIDOS VUELTA JORNADA ACTUAL"
   ]
  },
  {
   "cell_type": "code",
   "execution_count": 22,
   "metadata": {},
   "outputs": [
    {
     "data": {
      "text/html": [
       "<div>\n",
       "<style scoped>\n",
       "    .dataframe tbody tr th:only-of-type {\n",
       "        vertical-align: middle;\n",
       "    }\n",
       "\n",
       "    .dataframe tbody tr th {\n",
       "        vertical-align: top;\n",
       "    }\n",
       "\n",
       "    .dataframe thead th {\n",
       "        text-align: right;\n",
       "    }\n",
       "</style>\n",
       "<table border=\"1\" class=\"dataframe\">\n",
       "  <thead>\n",
       "    <tr style=\"text-align: right;\">\n",
       "      <th></th>\n",
       "      <th>RTDO L</th>\n",
       "      <th>LOCAL</th>\n",
       "      <th>VISITANTE</th>\n",
       "      <th>RTDO V</th>\n",
       "      <th>jornada</th>\n",
       "      <th>RTDO L.1</th>\n",
       "      <th>LOCAL.1</th>\n",
       "      <th>VISITANTE.1</th>\n",
       "      <th>RTDO V.1</th>\n",
       "    </tr>\n",
       "  </thead>\n",
       "  <tbody>\n",
       "    <tr>\n",
       "      <th>0</th>\n",
       "      <td>0</td>\n",
       "      <td>Ruso</td>\n",
       "      <td>Palop</td>\n",
       "      <td>0</td>\n",
       "      <td>JOR. 8</td>\n",
       "      <td>0</td>\n",
       "      <td>Gonzo</td>\n",
       "      <td>Puche</td>\n",
       "      <td>0</td>\n",
       "    </tr>\n",
       "    <tr>\n",
       "      <th>1</th>\n",
       "      <td>0</td>\n",
       "      <td>Tony</td>\n",
       "      <td>Fale</td>\n",
       "      <td>0</td>\n",
       "      <td>JOR. 8</td>\n",
       "      <td>0</td>\n",
       "      <td>Papu</td>\n",
       "      <td>Armada</td>\n",
       "      <td>0</td>\n",
       "    </tr>\n",
       "    <tr>\n",
       "      <th>2</th>\n",
       "      <td>0</td>\n",
       "      <td>Kero</td>\n",
       "      <td>Lope</td>\n",
       "      <td>0</td>\n",
       "      <td>JOR. 8</td>\n",
       "      <td>0</td>\n",
       "      <td>Kike</td>\n",
       "      <td>Coquina</td>\n",
       "      <td>0</td>\n",
       "    </tr>\n",
       "  </tbody>\n",
       "</table>\n",
       "</div>"
      ],
      "text/plain": [
       "   RTDO L LOCAL VISITANTE  RTDO V jornada  RTDO L.1 LOCAL.1 VISITANTE.1  \\\n",
       "0       0  Ruso     Palop       0  JOR. 8         0   Gonzo       Puche   \n",
       "1       0  Tony      Fale       0  JOR. 8         0    Papu      Armada   \n",
       "2       0  Kero      Lope       0  JOR. 8         0    Kike     Coquina   \n",
       "\n",
       "   RTDO V.1  \n",
       "0         0  \n",
       "1         0  \n",
       "2         0  "
      ]
     },
     "execution_count": 22,
     "metadata": {},
     "output_type": "execute_result"
    }
   ],
   "source": [
    "# Tomar solo los partidos de la \"Jornada actual\"\n",
    "jornada8 = df_vuelta_grA['Jornada 8']\n",
    "# Separar \"Local\" y \"Visitante\" dividiendo la cadena por ' VS '\n",
    "jornada8_split = jornada8.str.split(' VS ', expand=True)\n",
    "jornada8_split.columns = ['LOCAL', 'VISITANTE']\n",
    "jornada8\n",
    "# Crear el nuevo DataFrame con el formato deseado\n",
    "jornada_actual = pd.DataFrame({\n",
    "    'RTDO L': [0] * len(jornada8_split),  # Columna de resultados locales (inicialmente en 0)\n",
    "    'LOCAL': jornada8_split['LOCAL'],     # Columna de equipos locales\n",
    "    'VISITANTE': jornada8_split['VISITANTE'],  # Columna de equipos visitantes\n",
    "    'RTDO V': [0] * len(jornada8_split),  # Columna de resultados visitantes (inicialmente en 0)\n",
    "    'jornada': ['JOR. 8'] * len(jornada8_split),  # Columna de la jornada (aquí es \"JOR. 1\")\n",
    "    # Columnas adicionales para un segundo grupo de partidos\n",
    "    'RTDO L.1': [0] * len(jornada8_split),\n",
    "    'LOCAL.1': ['Gonzo', 'Papu', 'Kike'],  # Ejemplo de equipos adicionales (puedes cambiarlos)\n",
    "    'VISITANTE.1': ['Puche', 'Armada', 'Coquina' ],  # Ejemplo de visitantes adicionales\n",
    "    'RTDO V.1': [0] * len(jornada8_split)\n",
    "})\n",
    "\n",
    "jornada_actual"
   ]
  },
  {
   "cell_type": "code",
   "execution_count": 21,
   "metadata": {},
   "outputs": [
    {
     "data": {
      "text/html": [
       "<div>\n",
       "<style scoped>\n",
       "    .dataframe tbody tr th:only-of-type {\n",
       "        vertical-align: middle;\n",
       "    }\n",
       "\n",
       "    .dataframe tbody tr th {\n",
       "        vertical-align: top;\n",
       "    }\n",
       "\n",
       "    .dataframe thead th {\n",
       "        text-align: right;\n",
       "    }\n",
       "</style>\n",
       "<table border=\"1\" class=\"dataframe\">\n",
       "  <thead>\n",
       "    <tr style=\"text-align: right;\">\n",
       "      <th></th>\n",
       "      <th>Jornada 6</th>\n",
       "      <th>Jornada 7</th>\n",
       "      <th>Jornada 8</th>\n",
       "      <th>Jornada 9</th>\n",
       "      <th>Jornada 10</th>\n",
       "    </tr>\n",
       "  </thead>\n",
       "  <tbody>\n",
       "    <tr>\n",
       "      <th>0</th>\n",
       "      <td>Coquina VS Diego</td>\n",
       "      <td>Armada VS Diego</td>\n",
       "      <td>Gonzo VS Diego</td>\n",
       "      <td>Papu VS Diego</td>\n",
       "      <td>Kike VS Diego</td>\n",
       "    </tr>\n",
       "    <tr>\n",
       "      <th>1</th>\n",
       "      <td>Armada VS Kike</td>\n",
       "      <td>Gonzo VS Coquina</td>\n",
       "      <td>Papu VS Armada</td>\n",
       "      <td>Kike VS Gonzo</td>\n",
       "      <td>Coquina VS Papu</td>\n",
       "    </tr>\n",
       "    <tr>\n",
       "      <th>2</th>\n",
       "      <td>Gonzo VS Papu</td>\n",
       "      <td>Papu VS Kike</td>\n",
       "      <td>Kike VS Coquina</td>\n",
       "      <td>Coquina VS Armada</td>\n",
       "      <td>Armada VS Gonzo</td>\n",
       "    </tr>\n",
       "  </tbody>\n",
       "</table>\n",
       "</div>"
      ],
      "text/plain": [
       "          Jornada 6         Jornada 7        Jornada 8          Jornada 9  \\\n",
       "0  Coquina VS Diego   Armada VS Diego   Gonzo VS Diego      Papu VS Diego   \n",
       "1    Armada VS Kike  Gonzo VS Coquina   Papu VS Armada      Kike VS Gonzo   \n",
       "2     Gonzo VS Papu      Papu VS Kike  Kike VS Coquina  Coquina VS Armada   \n",
       "\n",
       "        Jornada 10  \n",
       "0    Kike VS Diego  \n",
       "1  Coquina VS Papu  \n",
       "2  Armada VS Gonzo  "
      ]
     },
     "execution_count": 21,
     "metadata": {},
     "output_type": "execute_result"
    }
   ],
   "source": [
    "df_vuelta_grB"
   ]
  },
  {
   "cell_type": "code",
   "execution_count": 23,
   "metadata": {},
   "outputs": [],
   "source": [
    "ruta_archivo = os.path.join(carpeta, 'jornada_8_inicial.xlsx')\n",
    "jornada_actual.to_excel(ruta_archivo, index=False)"
   ]
  }
 ],
 "metadata": {
  "kernelspec": {
   "display_name": "venv",
   "language": "python",
   "name": "python3"
  },
  "language_info": {
   "codemirror_mode": {
    "name": "ipython",
    "version": 3
   },
   "file_extension": ".py",
   "mimetype": "text/x-python",
   "name": "python",
   "nbconvert_exporter": "python",
   "pygments_lexer": "ipython3",
   "version": "3.12.3"
  }
 },
 "nbformat": 4,
 "nbformat_minor": 2
}
